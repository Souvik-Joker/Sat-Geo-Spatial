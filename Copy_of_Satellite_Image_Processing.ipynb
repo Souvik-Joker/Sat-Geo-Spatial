{
  "nbformat": 4,
  "nbformat_minor": 0,
  "metadata": {
    "accelerator": "GPU",
    "colab": {
      "name": "Copy of Satellite Image Processing.ipynb",
      "provenance": [],
      "collapsed_sections": []
    },
    "kernelspec": {
      "display_name": "Python 3",
      "language": "python",
      "name": "python3"
    },
    "language_info": {
      "codemirror_mode": {
        "name": "ipython",
        "version": 3
      },
      "file_extension": ".py",
      "mimetype": "text/x-python",
      "name": "python",
      "nbconvert_exporter": "python",
      "pygments_lexer": "ipython3",
      "version": "3.7.7"
    },
    "widgets": {
      "application/vnd.jupyter.widget-state+json": {
        "64fc881601c947caa7528480c11fa967": {
          "model_module": "@jupyter-widgets/controls",
          "model_name": "HBoxModel",
          "state": {
            "_view_name": "HBoxView",
            "_dom_classes": [],
            "_model_name": "HBoxModel",
            "_view_module": "@jupyter-widgets/controls",
            "_model_module_version": "1.5.0",
            "_view_count": null,
            "_view_module_version": "1.5.0",
            "box_style": "",
            "layout": "IPY_MODEL_5833d833164f478e94a4e23ed192fa16",
            "_model_module": "@jupyter-widgets/controls",
            "children": [
              "IPY_MODEL_da51c05fa1ed4296b3d2ab440bbcb7df",
              "IPY_MODEL_62afad411c924852b7e8ece7af9402f0"
            ]
          }
        },
        "5833d833164f478e94a4e23ed192fa16": {
          "model_module": "@jupyter-widgets/base",
          "model_name": "LayoutModel",
          "state": {
            "_view_name": "LayoutView",
            "grid_template_rows": null,
            "right": null,
            "justify_content": null,
            "_view_module": "@jupyter-widgets/base",
            "overflow": null,
            "_model_module_version": "1.2.0",
            "_view_count": null,
            "flex_flow": null,
            "width": null,
            "min_width": null,
            "border": null,
            "align_items": null,
            "bottom": null,
            "_model_module": "@jupyter-widgets/base",
            "top": null,
            "grid_column": null,
            "overflow_y": null,
            "overflow_x": null,
            "grid_auto_flow": null,
            "grid_area": null,
            "grid_template_columns": null,
            "flex": null,
            "_model_name": "LayoutModel",
            "justify_items": null,
            "grid_row": null,
            "max_height": null,
            "align_content": null,
            "visibility": null,
            "align_self": null,
            "height": null,
            "min_height": null,
            "padding": null,
            "grid_auto_rows": null,
            "grid_gap": null,
            "max_width": null,
            "order": null,
            "_view_module_version": "1.2.0",
            "grid_template_areas": null,
            "object_position": null,
            "object_fit": null,
            "grid_auto_columns": null,
            "margin": null,
            "display": null,
            "left": null
          }
        },
        "da51c05fa1ed4296b3d2ab440bbcb7df": {
          "model_module": "@jupyter-widgets/controls",
          "model_name": "FloatProgressModel",
          "state": {
            "_view_name": "ProgressView",
            "style": "IPY_MODEL_f8fba6f54552415dbc01b78a00a21eec",
            "_dom_classes": [],
            "description": "Dl Completed...: 100%",
            "_model_name": "FloatProgressModel",
            "bar_style": "success",
            "max": 1,
            "_view_module": "@jupyter-widgets/controls",
            "_model_module_version": "1.5.0",
            "value": 1,
            "_view_count": null,
            "_view_module_version": "1.5.0",
            "orientation": "horizontal",
            "min": 0,
            "description_tooltip": null,
            "_model_module": "@jupyter-widgets/controls",
            "layout": "IPY_MODEL_c58d509f76d54468aa550aa649f6d9a4"
          }
        },
        "62afad411c924852b7e8ece7af9402f0": {
          "model_module": "@jupyter-widgets/controls",
          "model_name": "HTMLModel",
          "state": {
            "_view_name": "HTMLView",
            "style": "IPY_MODEL_eaaedf7790dd41728a6919b52bd3742b",
            "_dom_classes": [],
            "description": "",
            "_model_name": "HTMLModel",
            "placeholder": "​",
            "_view_module": "@jupyter-widgets/controls",
            "_model_module_version": "1.5.0",
            "value": " 1/1 [00:41&lt;00:00, 41.45s/ url]",
            "_view_count": null,
            "_view_module_version": "1.5.0",
            "description_tooltip": null,
            "_model_module": "@jupyter-widgets/controls",
            "layout": "IPY_MODEL_b4182c76299e40d3b7a7cb1d7f7d6522"
          }
        },
        "f8fba6f54552415dbc01b78a00a21eec": {
          "model_module": "@jupyter-widgets/controls",
          "model_name": "ProgressStyleModel",
          "state": {
            "_view_name": "StyleView",
            "_model_name": "ProgressStyleModel",
            "description_width": "initial",
            "_view_module": "@jupyter-widgets/base",
            "_model_module_version": "1.5.0",
            "_view_count": null,
            "_view_module_version": "1.2.0",
            "bar_color": null,
            "_model_module": "@jupyter-widgets/controls"
          }
        },
        "c58d509f76d54468aa550aa649f6d9a4": {
          "model_module": "@jupyter-widgets/base",
          "model_name": "LayoutModel",
          "state": {
            "_view_name": "LayoutView",
            "grid_template_rows": null,
            "right": null,
            "justify_content": null,
            "_view_module": "@jupyter-widgets/base",
            "overflow": null,
            "_model_module_version": "1.2.0",
            "_view_count": null,
            "flex_flow": null,
            "width": null,
            "min_width": null,
            "border": null,
            "align_items": null,
            "bottom": null,
            "_model_module": "@jupyter-widgets/base",
            "top": null,
            "grid_column": null,
            "overflow_y": null,
            "overflow_x": null,
            "grid_auto_flow": null,
            "grid_area": null,
            "grid_template_columns": null,
            "flex": null,
            "_model_name": "LayoutModel",
            "justify_items": null,
            "grid_row": null,
            "max_height": null,
            "align_content": null,
            "visibility": null,
            "align_self": null,
            "height": null,
            "min_height": null,
            "padding": null,
            "grid_auto_rows": null,
            "grid_gap": null,
            "max_width": null,
            "order": null,
            "_view_module_version": "1.2.0",
            "grid_template_areas": null,
            "object_position": null,
            "object_fit": null,
            "grid_auto_columns": null,
            "margin": null,
            "display": null,
            "left": null
          }
        },
        "eaaedf7790dd41728a6919b52bd3742b": {
          "model_module": "@jupyter-widgets/controls",
          "model_name": "DescriptionStyleModel",
          "state": {
            "_view_name": "StyleView",
            "_model_name": "DescriptionStyleModel",
            "description_width": "",
            "_view_module": "@jupyter-widgets/base",
            "_model_module_version": "1.5.0",
            "_view_count": null,
            "_view_module_version": "1.2.0",
            "_model_module": "@jupyter-widgets/controls"
          }
        },
        "b4182c76299e40d3b7a7cb1d7f7d6522": {
          "model_module": "@jupyter-widgets/base",
          "model_name": "LayoutModel",
          "state": {
            "_view_name": "LayoutView",
            "grid_template_rows": null,
            "right": null,
            "justify_content": null,
            "_view_module": "@jupyter-widgets/base",
            "overflow": null,
            "_model_module_version": "1.2.0",
            "_view_count": null,
            "flex_flow": null,
            "width": null,
            "min_width": null,
            "border": null,
            "align_items": null,
            "bottom": null,
            "_model_module": "@jupyter-widgets/base",
            "top": null,
            "grid_column": null,
            "overflow_y": null,
            "overflow_x": null,
            "grid_auto_flow": null,
            "grid_area": null,
            "grid_template_columns": null,
            "flex": null,
            "_model_name": "LayoutModel",
            "justify_items": null,
            "grid_row": null,
            "max_height": null,
            "align_content": null,
            "visibility": null,
            "align_self": null,
            "height": null,
            "min_height": null,
            "padding": null,
            "grid_auto_rows": null,
            "grid_gap": null,
            "max_width": null,
            "order": null,
            "_view_module_version": "1.2.0",
            "grid_template_areas": null,
            "object_position": null,
            "object_fit": null,
            "grid_auto_columns": null,
            "margin": null,
            "display": null,
            "left": null
          }
        },
        "74f9b41850ed49f995d7a1c761b427cb": {
          "model_module": "@jupyter-widgets/controls",
          "model_name": "HBoxModel",
          "state": {
            "_view_name": "HBoxView",
            "_dom_classes": [],
            "_model_name": "HBoxModel",
            "_view_module": "@jupyter-widgets/controls",
            "_model_module_version": "1.5.0",
            "_view_count": null,
            "_view_module_version": "1.5.0",
            "box_style": "",
            "layout": "IPY_MODEL_6e140c0405444d779654346a5d69cdd3",
            "_model_module": "@jupyter-widgets/controls",
            "children": [
              "IPY_MODEL_1c71c041690b4fd99b9244d273aea7cd",
              "IPY_MODEL_9d0d4a91405a4c2292247bc1c062ce2e"
            ]
          }
        },
        "6e140c0405444d779654346a5d69cdd3": {
          "model_module": "@jupyter-widgets/base",
          "model_name": "LayoutModel",
          "state": {
            "_view_name": "LayoutView",
            "grid_template_rows": null,
            "right": null,
            "justify_content": null,
            "_view_module": "@jupyter-widgets/base",
            "overflow": null,
            "_model_module_version": "1.2.0",
            "_view_count": null,
            "flex_flow": null,
            "width": null,
            "min_width": null,
            "border": null,
            "align_items": null,
            "bottom": null,
            "_model_module": "@jupyter-widgets/base",
            "top": null,
            "grid_column": null,
            "overflow_y": null,
            "overflow_x": null,
            "grid_auto_flow": null,
            "grid_area": null,
            "grid_template_columns": null,
            "flex": null,
            "_model_name": "LayoutModel",
            "justify_items": null,
            "grid_row": null,
            "max_height": null,
            "align_content": null,
            "visibility": null,
            "align_self": null,
            "height": null,
            "min_height": null,
            "padding": null,
            "grid_auto_rows": null,
            "grid_gap": null,
            "max_width": null,
            "order": null,
            "_view_module_version": "1.2.0",
            "grid_template_areas": null,
            "object_position": null,
            "object_fit": null,
            "grid_auto_columns": null,
            "margin": null,
            "display": null,
            "left": null
          }
        },
        "1c71c041690b4fd99b9244d273aea7cd": {
          "model_module": "@jupyter-widgets/controls",
          "model_name": "FloatProgressModel",
          "state": {
            "_view_name": "ProgressView",
            "style": "IPY_MODEL_71a5f2adc1584912877d8e6fb6ad65fa",
            "_dom_classes": [],
            "description": "Dl Size...: 100%",
            "_model_name": "FloatProgressModel",
            "bar_style": "success",
            "max": 1,
            "_view_module": "@jupyter-widgets/controls",
            "_model_module_version": "1.5.0",
            "value": 1,
            "_view_count": null,
            "_view_module_version": "1.5.0",
            "orientation": "horizontal",
            "min": 0,
            "description_tooltip": null,
            "_model_module": "@jupyter-widgets/controls",
            "layout": "IPY_MODEL_f946e8b741d2463c9215c2fd83b884c6"
          }
        },
        "9d0d4a91405a4c2292247bc1c062ce2e": {
          "model_module": "@jupyter-widgets/controls",
          "model_name": "HTMLModel",
          "state": {
            "_view_name": "HTMLView",
            "style": "IPY_MODEL_37b4c4e839fb484ab4133437437b758f",
            "_dom_classes": [],
            "description": "",
            "_model_name": "HTMLModel",
            "placeholder": "​",
            "_view_module": "@jupyter-widgets/controls",
            "_model_module_version": "1.5.0",
            "value": " 89/89 [00:41&lt;00:00,  2.15 MiB/s]",
            "_view_count": null,
            "_view_module_version": "1.5.0",
            "description_tooltip": null,
            "_model_module": "@jupyter-widgets/controls",
            "layout": "IPY_MODEL_1ade590272ff49eba605fb81e816fa67"
          }
        },
        "71a5f2adc1584912877d8e6fb6ad65fa": {
          "model_module": "@jupyter-widgets/controls",
          "model_name": "ProgressStyleModel",
          "state": {
            "_view_name": "StyleView",
            "_model_name": "ProgressStyleModel",
            "description_width": "initial",
            "_view_module": "@jupyter-widgets/base",
            "_model_module_version": "1.5.0",
            "_view_count": null,
            "_view_module_version": "1.2.0",
            "bar_color": null,
            "_model_module": "@jupyter-widgets/controls"
          }
        },
        "f946e8b741d2463c9215c2fd83b884c6": {
          "model_module": "@jupyter-widgets/base",
          "model_name": "LayoutModel",
          "state": {
            "_view_name": "LayoutView",
            "grid_template_rows": null,
            "right": null,
            "justify_content": null,
            "_view_module": "@jupyter-widgets/base",
            "overflow": null,
            "_model_module_version": "1.2.0",
            "_view_count": null,
            "flex_flow": null,
            "width": null,
            "min_width": null,
            "border": null,
            "align_items": null,
            "bottom": null,
            "_model_module": "@jupyter-widgets/base",
            "top": null,
            "grid_column": null,
            "overflow_y": null,
            "overflow_x": null,
            "grid_auto_flow": null,
            "grid_area": null,
            "grid_template_columns": null,
            "flex": null,
            "_model_name": "LayoutModel",
            "justify_items": null,
            "grid_row": null,
            "max_height": null,
            "align_content": null,
            "visibility": null,
            "align_self": null,
            "height": null,
            "min_height": null,
            "padding": null,
            "grid_auto_rows": null,
            "grid_gap": null,
            "max_width": null,
            "order": null,
            "_view_module_version": "1.2.0",
            "grid_template_areas": null,
            "object_position": null,
            "object_fit": null,
            "grid_auto_columns": null,
            "margin": null,
            "display": null,
            "left": null
          }
        },
        "37b4c4e839fb484ab4133437437b758f": {
          "model_module": "@jupyter-widgets/controls",
          "model_name": "DescriptionStyleModel",
          "state": {
            "_view_name": "StyleView",
            "_model_name": "DescriptionStyleModel",
            "description_width": "",
            "_view_module": "@jupyter-widgets/base",
            "_model_module_version": "1.5.0",
            "_view_count": null,
            "_view_module_version": "1.2.0",
            "_model_module": "@jupyter-widgets/controls"
          }
        },
        "1ade590272ff49eba605fb81e816fa67": {
          "model_module": "@jupyter-widgets/base",
          "model_name": "LayoutModel",
          "state": {
            "_view_name": "LayoutView",
            "grid_template_rows": null,
            "right": null,
            "justify_content": null,
            "_view_module": "@jupyter-widgets/base",
            "overflow": null,
            "_model_module_version": "1.2.0",
            "_view_count": null,
            "flex_flow": null,
            "width": null,
            "min_width": null,
            "border": null,
            "align_items": null,
            "bottom": null,
            "_model_module": "@jupyter-widgets/base",
            "top": null,
            "grid_column": null,
            "overflow_y": null,
            "overflow_x": null,
            "grid_auto_flow": null,
            "grid_area": null,
            "grid_template_columns": null,
            "flex": null,
            "_model_name": "LayoutModel",
            "justify_items": null,
            "grid_row": null,
            "max_height": null,
            "align_content": null,
            "visibility": null,
            "align_self": null,
            "height": null,
            "min_height": null,
            "padding": null,
            "grid_auto_rows": null,
            "grid_gap": null,
            "max_width": null,
            "order": null,
            "_view_module_version": "1.2.0",
            "grid_template_areas": null,
            "object_position": null,
            "object_fit": null,
            "grid_auto_columns": null,
            "margin": null,
            "display": null,
            "left": null
          }
        },
        "43ed1574fa3a46a18d39e143ddd309fc": {
          "model_module": "@jupyter-widgets/controls",
          "model_name": "HBoxModel",
          "state": {
            "_view_name": "HBoxView",
            "_dom_classes": [],
            "_model_name": "HBoxModel",
            "_view_module": "@jupyter-widgets/controls",
            "_model_module_version": "1.5.0",
            "_view_count": null,
            "_view_module_version": "1.5.0",
            "box_style": "",
            "layout": "IPY_MODEL_e7fd10fc15ae42618bb6c12795574ffc",
            "_model_module": "@jupyter-widgets/controls",
            "children": [
              "IPY_MODEL_fd0c4a3c75e04734b1f3620e92cfee36",
              "IPY_MODEL_5bd2ce3bb5e047dd8dd025ed41198929"
            ]
          }
        },
        "e7fd10fc15ae42618bb6c12795574ffc": {
          "model_module": "@jupyter-widgets/base",
          "model_name": "LayoutModel",
          "state": {
            "_view_name": "LayoutView",
            "grid_template_rows": null,
            "right": null,
            "justify_content": null,
            "_view_module": "@jupyter-widgets/base",
            "overflow": null,
            "_model_module_version": "1.2.0",
            "_view_count": null,
            "flex_flow": null,
            "width": null,
            "min_width": null,
            "border": null,
            "align_items": null,
            "bottom": null,
            "_model_module": "@jupyter-widgets/base",
            "top": null,
            "grid_column": null,
            "overflow_y": null,
            "overflow_x": null,
            "grid_auto_flow": null,
            "grid_area": null,
            "grid_template_columns": null,
            "flex": null,
            "_model_name": "LayoutModel",
            "justify_items": null,
            "grid_row": null,
            "max_height": null,
            "align_content": null,
            "visibility": null,
            "align_self": null,
            "height": null,
            "min_height": null,
            "padding": null,
            "grid_auto_rows": null,
            "grid_gap": null,
            "max_width": null,
            "order": null,
            "_view_module_version": "1.2.0",
            "grid_template_areas": null,
            "object_position": null,
            "object_fit": null,
            "grid_auto_columns": null,
            "margin": null,
            "display": null,
            "left": null
          }
        },
        "fd0c4a3c75e04734b1f3620e92cfee36": {
          "model_module": "@jupyter-widgets/controls",
          "model_name": "FloatProgressModel",
          "state": {
            "_view_name": "ProgressView",
            "style": "IPY_MODEL_81b00350c9f746b0b4d99fcc04f673f7",
            "_dom_classes": [],
            "description": "Extraction completed...: 100%",
            "_model_name": "FloatProgressModel",
            "bar_style": "success",
            "max": 1,
            "_view_module": "@jupyter-widgets/controls",
            "_model_module_version": "1.5.0",
            "value": 1,
            "_view_count": null,
            "_view_module_version": "1.5.0",
            "orientation": "horizontal",
            "min": 0,
            "description_tooltip": null,
            "_model_module": "@jupyter-widgets/controls",
            "layout": "IPY_MODEL_646b880b13724c75af7f9b14bf00c225"
          }
        },
        "5bd2ce3bb5e047dd8dd025ed41198929": {
          "model_module": "@jupyter-widgets/controls",
          "model_name": "HTMLModel",
          "state": {
            "_view_name": "HTMLView",
            "style": "IPY_MODEL_de9809e6fa624840ad62d6375951e04e",
            "_dom_classes": [],
            "description": "",
            "_model_name": "HTMLModel",
            "placeholder": "​",
            "_view_module": "@jupyter-widgets/controls",
            "_model_module_version": "1.5.0",
            "value": " 1/1 [00:41&lt;00:00, 41.39s/ file]",
            "_view_count": null,
            "_view_module_version": "1.5.0",
            "description_tooltip": null,
            "_model_module": "@jupyter-widgets/controls",
            "layout": "IPY_MODEL_2a53b96cb8cd4035babf5fe1adb88456"
          }
        },
        "81b00350c9f746b0b4d99fcc04f673f7": {
          "model_module": "@jupyter-widgets/controls",
          "model_name": "ProgressStyleModel",
          "state": {
            "_view_name": "StyleView",
            "_model_name": "ProgressStyleModel",
            "description_width": "initial",
            "_view_module": "@jupyter-widgets/base",
            "_model_module_version": "1.5.0",
            "_view_count": null,
            "_view_module_version": "1.2.0",
            "bar_color": null,
            "_model_module": "@jupyter-widgets/controls"
          }
        },
        "646b880b13724c75af7f9b14bf00c225": {
          "model_module": "@jupyter-widgets/base",
          "model_name": "LayoutModel",
          "state": {
            "_view_name": "LayoutView",
            "grid_template_rows": null,
            "right": null,
            "justify_content": null,
            "_view_module": "@jupyter-widgets/base",
            "overflow": null,
            "_model_module_version": "1.2.0",
            "_view_count": null,
            "flex_flow": null,
            "width": null,
            "min_width": null,
            "border": null,
            "align_items": null,
            "bottom": null,
            "_model_module": "@jupyter-widgets/base",
            "top": null,
            "grid_column": null,
            "overflow_y": null,
            "overflow_x": null,
            "grid_auto_flow": null,
            "grid_area": null,
            "grid_template_columns": null,
            "flex": null,
            "_model_name": "LayoutModel",
            "justify_items": null,
            "grid_row": null,
            "max_height": null,
            "align_content": null,
            "visibility": null,
            "align_self": null,
            "height": null,
            "min_height": null,
            "padding": null,
            "grid_auto_rows": null,
            "grid_gap": null,
            "max_width": null,
            "order": null,
            "_view_module_version": "1.2.0",
            "grid_template_areas": null,
            "object_position": null,
            "object_fit": null,
            "grid_auto_columns": null,
            "margin": null,
            "display": null,
            "left": null
          }
        },
        "de9809e6fa624840ad62d6375951e04e": {
          "model_module": "@jupyter-widgets/controls",
          "model_name": "DescriptionStyleModel",
          "state": {
            "_view_name": "StyleView",
            "_model_name": "DescriptionStyleModel",
            "description_width": "",
            "_view_module": "@jupyter-widgets/base",
            "_model_module_version": "1.5.0",
            "_view_count": null,
            "_view_module_version": "1.2.0",
            "_model_module": "@jupyter-widgets/controls"
          }
        },
        "2a53b96cb8cd4035babf5fe1adb88456": {
          "model_module": "@jupyter-widgets/base",
          "model_name": "LayoutModel",
          "state": {
            "_view_name": "LayoutView",
            "grid_template_rows": null,
            "right": null,
            "justify_content": null,
            "_view_module": "@jupyter-widgets/base",
            "overflow": null,
            "_model_module_version": "1.2.0",
            "_view_count": null,
            "flex_flow": null,
            "width": null,
            "min_width": null,
            "border": null,
            "align_items": null,
            "bottom": null,
            "_model_module": "@jupyter-widgets/base",
            "top": null,
            "grid_column": null,
            "overflow_y": null,
            "overflow_x": null,
            "grid_auto_flow": null,
            "grid_area": null,
            "grid_template_columns": null,
            "flex": null,
            "_model_name": "LayoutModel",
            "justify_items": null,
            "grid_row": null,
            "max_height": null,
            "align_content": null,
            "visibility": null,
            "align_self": null,
            "height": null,
            "min_height": null,
            "padding": null,
            "grid_auto_rows": null,
            "grid_gap": null,
            "max_width": null,
            "order": null,
            "_view_module_version": "1.2.0",
            "grid_template_areas": null,
            "object_position": null,
            "object_fit": null,
            "grid_auto_columns": null,
            "margin": null,
            "display": null,
            "left": null
          }
        },
        "673b1f4881174c27916c116f29143f5c": {
          "model_module": "@jupyter-widgets/controls",
          "model_name": "HBoxModel",
          "state": {
            "_view_name": "HBoxView",
            "_dom_classes": [],
            "_model_name": "HBoxModel",
            "_view_module": "@jupyter-widgets/controls",
            "_model_module_version": "1.5.0",
            "_view_count": null,
            "_view_module_version": "1.5.0",
            "box_style": "",
            "layout": "IPY_MODEL_c2b90afa3fe444e6a6677447ffd16e47",
            "_model_module": "@jupyter-widgets/controls",
            "children": [
              "IPY_MODEL_458fb2f9cc8f4149bc638385c73dc7f2",
              "IPY_MODEL_d2d1952cb9734dada122daaa860f0fae"
            ]
          }
        },
        "c2b90afa3fe444e6a6677447ffd16e47": {
          "model_module": "@jupyter-widgets/base",
          "model_name": "LayoutModel",
          "state": {
            "_view_name": "LayoutView",
            "grid_template_rows": null,
            "right": null,
            "justify_content": null,
            "_view_module": "@jupyter-widgets/base",
            "overflow": null,
            "_model_module_version": "1.2.0",
            "_view_count": null,
            "flex_flow": null,
            "width": null,
            "min_width": null,
            "border": null,
            "align_items": null,
            "bottom": null,
            "_model_module": "@jupyter-widgets/base",
            "top": null,
            "grid_column": null,
            "overflow_y": null,
            "overflow_x": null,
            "grid_auto_flow": null,
            "grid_area": null,
            "grid_template_columns": null,
            "flex": null,
            "_model_name": "LayoutModel",
            "justify_items": null,
            "grid_row": null,
            "max_height": null,
            "align_content": null,
            "visibility": null,
            "align_self": null,
            "height": null,
            "min_height": null,
            "padding": null,
            "grid_auto_rows": null,
            "grid_gap": null,
            "max_width": null,
            "order": null,
            "_view_module_version": "1.2.0",
            "grid_template_areas": null,
            "object_position": null,
            "object_fit": null,
            "grid_auto_columns": null,
            "margin": null,
            "display": null,
            "left": null
          }
        },
        "458fb2f9cc8f4149bc638385c73dc7f2": {
          "model_module": "@jupyter-widgets/controls",
          "model_name": "FloatProgressModel",
          "state": {
            "_view_name": "ProgressView",
            "style": "IPY_MODEL_26868cc00b2d448e8f02c4f9f184bb96",
            "_dom_classes": [],
            "description": "",
            "_model_name": "FloatProgressModel",
            "bar_style": "info",
            "max": 1,
            "_view_module": "@jupyter-widgets/controls",
            "_model_module_version": "1.5.0",
            "value": 1,
            "_view_count": null,
            "_view_module_version": "1.5.0",
            "orientation": "horizontal",
            "min": 0,
            "description_tooltip": null,
            "_model_module": "@jupyter-widgets/controls",
            "layout": "IPY_MODEL_3bd9596ac0644529b4929121734ff07e"
          }
        },
        "d2d1952cb9734dada122daaa860f0fae": {
          "model_module": "@jupyter-widgets/controls",
          "model_name": "HTMLModel",
          "state": {
            "_view_name": "HTMLView",
            "style": "IPY_MODEL_856a398107a143ee8e5f76ae4ef6b9c3",
            "_dom_classes": [],
            "description": "",
            "_model_name": "HTMLModel",
            "placeholder": "​",
            "_view_module": "@jupyter-widgets/controls",
            "_model_module_version": "1.5.0",
            "value": " 27000/0 [00:11&lt;00:00, 2249.92 examples/s]",
            "_view_count": null,
            "_view_module_version": "1.5.0",
            "description_tooltip": null,
            "_model_module": "@jupyter-widgets/controls",
            "layout": "IPY_MODEL_e7736d039ef746b49e2796c39d7e8eac"
          }
        },
        "26868cc00b2d448e8f02c4f9f184bb96": {
          "model_module": "@jupyter-widgets/controls",
          "model_name": "ProgressStyleModel",
          "state": {
            "_view_name": "StyleView",
            "_model_name": "ProgressStyleModel",
            "description_width": "initial",
            "_view_module": "@jupyter-widgets/base",
            "_model_module_version": "1.5.0",
            "_view_count": null,
            "_view_module_version": "1.2.0",
            "bar_color": null,
            "_model_module": "@jupyter-widgets/controls"
          }
        },
        "3bd9596ac0644529b4929121734ff07e": {
          "model_module": "@jupyter-widgets/base",
          "model_name": "LayoutModel",
          "state": {
            "_view_name": "LayoutView",
            "grid_template_rows": null,
            "right": null,
            "justify_content": null,
            "_view_module": "@jupyter-widgets/base",
            "overflow": null,
            "_model_module_version": "1.2.0",
            "_view_count": null,
            "flex_flow": null,
            "width": null,
            "min_width": null,
            "border": null,
            "align_items": null,
            "bottom": null,
            "_model_module": "@jupyter-widgets/base",
            "top": null,
            "grid_column": null,
            "overflow_y": null,
            "overflow_x": null,
            "grid_auto_flow": null,
            "grid_area": null,
            "grid_template_columns": null,
            "flex": null,
            "_model_name": "LayoutModel",
            "justify_items": null,
            "grid_row": null,
            "max_height": null,
            "align_content": null,
            "visibility": null,
            "align_self": null,
            "height": null,
            "min_height": null,
            "padding": null,
            "grid_auto_rows": null,
            "grid_gap": null,
            "max_width": null,
            "order": null,
            "_view_module_version": "1.2.0",
            "grid_template_areas": null,
            "object_position": null,
            "object_fit": null,
            "grid_auto_columns": null,
            "margin": null,
            "display": null,
            "left": null
          }
        },
        "856a398107a143ee8e5f76ae4ef6b9c3": {
          "model_module": "@jupyter-widgets/controls",
          "model_name": "DescriptionStyleModel",
          "state": {
            "_view_name": "StyleView",
            "_model_name": "DescriptionStyleModel",
            "description_width": "",
            "_view_module": "@jupyter-widgets/base",
            "_model_module_version": "1.5.0",
            "_view_count": null,
            "_view_module_version": "1.2.0",
            "_model_module": "@jupyter-widgets/controls"
          }
        },
        "e7736d039ef746b49e2796c39d7e8eac": {
          "model_module": "@jupyter-widgets/base",
          "model_name": "LayoutModel",
          "state": {
            "_view_name": "LayoutView",
            "grid_template_rows": null,
            "right": null,
            "justify_content": null,
            "_view_module": "@jupyter-widgets/base",
            "overflow": null,
            "_model_module_version": "1.2.0",
            "_view_count": null,
            "flex_flow": null,
            "width": null,
            "min_width": null,
            "border": null,
            "align_items": null,
            "bottom": null,
            "_model_module": "@jupyter-widgets/base",
            "top": null,
            "grid_column": null,
            "overflow_y": null,
            "overflow_x": null,
            "grid_auto_flow": null,
            "grid_area": null,
            "grid_template_columns": null,
            "flex": null,
            "_model_name": "LayoutModel",
            "justify_items": null,
            "grid_row": null,
            "max_height": null,
            "align_content": null,
            "visibility": null,
            "align_self": null,
            "height": null,
            "min_height": null,
            "padding": null,
            "grid_auto_rows": null,
            "grid_gap": null,
            "max_width": null,
            "order": null,
            "_view_module_version": "1.2.0",
            "grid_template_areas": null,
            "object_position": null,
            "object_fit": null,
            "grid_auto_columns": null,
            "margin": null,
            "display": null,
            "left": null
          }
        },
        "7be4669f3b6849b9a8e7c63f7c78bc63": {
          "model_module": "@jupyter-widgets/controls",
          "model_name": "HBoxModel",
          "state": {
            "_view_name": "HBoxView",
            "_dom_classes": [],
            "_model_name": "HBoxModel",
            "_view_module": "@jupyter-widgets/controls",
            "_model_module_version": "1.5.0",
            "_view_count": null,
            "_view_module_version": "1.5.0",
            "box_style": "",
            "layout": "IPY_MODEL_631f006e02074679a0e443b9f55eb7ba",
            "_model_module": "@jupyter-widgets/controls",
            "children": [
              "IPY_MODEL_129d6e9009754c29a60d161754bfc487",
              "IPY_MODEL_78e885b368e2467c870089ee2efeab6f"
            ]
          }
        },
        "631f006e02074679a0e443b9f55eb7ba": {
          "model_module": "@jupyter-widgets/base",
          "model_name": "LayoutModel",
          "state": {
            "_view_name": "LayoutView",
            "grid_template_rows": null,
            "right": null,
            "justify_content": null,
            "_view_module": "@jupyter-widgets/base",
            "overflow": null,
            "_model_module_version": "1.2.0",
            "_view_count": null,
            "flex_flow": null,
            "width": null,
            "min_width": null,
            "border": null,
            "align_items": null,
            "bottom": null,
            "_model_module": "@jupyter-widgets/base",
            "top": null,
            "grid_column": null,
            "overflow_y": null,
            "overflow_x": null,
            "grid_auto_flow": null,
            "grid_area": null,
            "grid_template_columns": null,
            "flex": null,
            "_model_name": "LayoutModel",
            "justify_items": null,
            "grid_row": null,
            "max_height": null,
            "align_content": null,
            "visibility": null,
            "align_self": null,
            "height": null,
            "min_height": null,
            "padding": null,
            "grid_auto_rows": null,
            "grid_gap": null,
            "max_width": null,
            "order": null,
            "_view_module_version": "1.2.0",
            "grid_template_areas": null,
            "object_position": null,
            "object_fit": null,
            "grid_auto_columns": null,
            "margin": null,
            "display": null,
            "left": null
          }
        },
        "129d6e9009754c29a60d161754bfc487": {
          "model_module": "@jupyter-widgets/controls",
          "model_name": "FloatProgressModel",
          "state": {
            "_view_name": "ProgressView",
            "style": "IPY_MODEL_2d1fbc1f54ed45d48e04387ff219ee97",
            "_dom_classes": [],
            "description": " 66%",
            "_model_name": "FloatProgressModel",
            "bar_style": "danger",
            "max": 27000,
            "_view_module": "@jupyter-widgets/controls",
            "_model_module_version": "1.5.0",
            "value": 17863,
            "_view_count": null,
            "_view_module_version": "1.5.0",
            "orientation": "horizontal",
            "min": 0,
            "description_tooltip": null,
            "_model_module": "@jupyter-widgets/controls",
            "layout": "IPY_MODEL_1319dc029e01471f9c434cf5e4ed0a2d"
          }
        },
        "78e885b368e2467c870089ee2efeab6f": {
          "model_module": "@jupyter-widgets/controls",
          "model_name": "HTMLModel",
          "state": {
            "_view_name": "HTMLView",
            "style": "IPY_MODEL_0ba16c8249a34e55b4adc6d9fe0168ea",
            "_dom_classes": [],
            "description": "",
            "_model_name": "HTMLModel",
            "placeholder": "​",
            "_view_module": "@jupyter-widgets/controls",
            "_model_module_version": "1.5.0",
            "value": " 17863/27000 [00:08&lt;00:00, 55227.65 examples/s]",
            "_view_count": null,
            "_view_module_version": "1.5.0",
            "description_tooltip": null,
            "_model_module": "@jupyter-widgets/controls",
            "layout": "IPY_MODEL_dc9aba1f471446a09ac99b72a502fe79"
          }
        },
        "2d1fbc1f54ed45d48e04387ff219ee97": {
          "model_module": "@jupyter-widgets/controls",
          "model_name": "ProgressStyleModel",
          "state": {
            "_view_name": "StyleView",
            "_model_name": "ProgressStyleModel",
            "description_width": "initial",
            "_view_module": "@jupyter-widgets/base",
            "_model_module_version": "1.5.0",
            "_view_count": null,
            "_view_module_version": "1.2.0",
            "bar_color": null,
            "_model_module": "@jupyter-widgets/controls"
          }
        },
        "1319dc029e01471f9c434cf5e4ed0a2d": {
          "model_module": "@jupyter-widgets/base",
          "model_name": "LayoutModel",
          "state": {
            "_view_name": "LayoutView",
            "grid_template_rows": null,
            "right": null,
            "justify_content": null,
            "_view_module": "@jupyter-widgets/base",
            "overflow": null,
            "_model_module_version": "1.2.0",
            "_view_count": null,
            "flex_flow": null,
            "width": null,
            "min_width": null,
            "border": null,
            "align_items": null,
            "bottom": null,
            "_model_module": "@jupyter-widgets/base",
            "top": null,
            "grid_column": null,
            "overflow_y": null,
            "overflow_x": null,
            "grid_auto_flow": null,
            "grid_area": null,
            "grid_template_columns": null,
            "flex": null,
            "_model_name": "LayoutModel",
            "justify_items": null,
            "grid_row": null,
            "max_height": null,
            "align_content": null,
            "visibility": null,
            "align_self": null,
            "height": null,
            "min_height": null,
            "padding": null,
            "grid_auto_rows": null,
            "grid_gap": null,
            "max_width": null,
            "order": null,
            "_view_module_version": "1.2.0",
            "grid_template_areas": null,
            "object_position": null,
            "object_fit": null,
            "grid_auto_columns": null,
            "margin": null,
            "display": null,
            "left": null
          }
        },
        "0ba16c8249a34e55b4adc6d9fe0168ea": {
          "model_module": "@jupyter-widgets/controls",
          "model_name": "DescriptionStyleModel",
          "state": {
            "_view_name": "StyleView",
            "_model_name": "DescriptionStyleModel",
            "description_width": "",
            "_view_module": "@jupyter-widgets/base",
            "_model_module_version": "1.5.0",
            "_view_count": null,
            "_view_module_version": "1.2.0",
            "_model_module": "@jupyter-widgets/controls"
          }
        },
        "dc9aba1f471446a09ac99b72a502fe79": {
          "model_module": "@jupyter-widgets/base",
          "model_name": "LayoutModel",
          "state": {
            "_view_name": "LayoutView",
            "grid_template_rows": null,
            "right": null,
            "justify_content": null,
            "_view_module": "@jupyter-widgets/base",
            "overflow": null,
            "_model_module_version": "1.2.0",
            "_view_count": null,
            "flex_flow": null,
            "width": null,
            "min_width": null,
            "border": null,
            "align_items": null,
            "bottom": null,
            "_model_module": "@jupyter-widgets/base",
            "top": null,
            "grid_column": null,
            "overflow_y": null,
            "overflow_x": null,
            "grid_auto_flow": null,
            "grid_area": null,
            "grid_template_columns": null,
            "flex": null,
            "_model_name": "LayoutModel",
            "justify_items": null,
            "grid_row": null,
            "max_height": null,
            "align_content": null,
            "visibility": null,
            "align_self": null,
            "height": null,
            "min_height": null,
            "padding": null,
            "grid_auto_rows": null,
            "grid_gap": null,
            "max_width": null,
            "order": null,
            "_view_module_version": "1.2.0",
            "grid_template_areas": null,
            "object_position": null,
            "object_fit": null,
            "grid_auto_columns": null,
            "margin": null,
            "display": null,
            "left": null
          }
        }
      }
    }
  },
  "cells": [
    {
      "cell_type": "markdown",
      "metadata": {
        "colab_type": "text",
        "id": "rwIadju7G3cL"
      },
      "source": [
        "# Satellite Image Processing with Deep Learning\n",
        "## Dr. Tristan Behrens\n",
        "\n",
        "In this notebook we will:\n",
        "- Solve the EuroSAT-10 classification problem,\n",
        "- to that end use Convolutional Neural Networks,\n",
        "- decrease overfitting with dropout,\n",
        "- decrease overfitting even further with data augmentation, and\n",
        "- solve the problem with transfer learning.\n",
        "\n",
        "## Miscellaneous\n",
        "\n",
        "- Subscribe to my YouTube channel: https://www.youtube.com/channel/UCcMEBxcDM034JyJ8J3cggRg\n",
        "- Add me on LinkedIn: https://www.linkedin.com/in/dr-tristan-behrens-ai-guru-734967a2/\n"
      ]
    },
    {
      "cell_type": "markdown",
      "metadata": {
        "colab_type": "text",
        "id": "TQ16LaARG3cN"
      },
      "source": [
        "## Make sure that we have TensorFlow 2 enabled."
      ]
    },
    {
      "cell_type": "code",
      "metadata": {
        "colab_type": "code",
        "id": "cC1bLcDvG3cP",
        "colab": {}
      },
      "source": [
        "%tensorflow_version 2.x"
      ],
      "execution_count": null,
      "outputs": []
    },
    {
      "cell_type": "markdown",
      "metadata": {
        "colab_type": "text",
        "id": "Px5ywWDNG3cd"
      },
      "source": [
        "## Import all necessary modules  and check TensorFlow version."
      ]
    },
    {
      "cell_type": "code",
      "metadata": {
        "colab_type": "code",
        "id": "Zh5KlVNrG3cg",
        "colab": {}
      },
      "source": [
        "import tensorflow as tf\n",
        "assert tf.__version__.startswith(\"2.\"), \"You have TensorFlow version {}, 2.X is required, please upgrade.\".format(tf.__version__)\n",
        "\n",
        "import tensorflow_datasets as tfds\n",
        "import numpy as np\n",
        "import matplotlib.pyplot as plt\n",
        "from tensorflow.keras import models, layers"
      ],
      "execution_count": null,
      "outputs": []
    },
    {
      "cell_type": "markdown",
      "metadata": {
        "colab_type": "text",
        "id": "uY4tv0a4ah0J"
      },
      "source": [
        "## Set some parameters and prepare for training."
      ]
    },
    {
      "cell_type": "code",
      "metadata": {
        "colab_type": "code",
        "id": "0Aau8P5Gah-M",
        "colab": {}
      },
      "source": [
        "histories = {}\n",
        "epochs = 100\n",
        "batch_size = 1024"
      ],
      "execution_count": null,
      "outputs": []
    },
    {
      "cell_type": "markdown",
      "metadata": {
        "colab_type": "text",
        "id": "4GExuqFsG3co"
      },
      "source": [
        "## Load and split EuroSAT-dataset.\n",
        "\n",
        "We split the data into three subsets:\n",
        "- Train: For training the Neural Network.\n",
        "- Validate: To see how good the Neural Network is after each epoch.\n",
        "- Test: To see how good the Neural Network is after training.\n",
        "\n",
        "Link: [EuroSAT](https://github.com/phelber/eurosat)."
      ]
    },
    {
      "cell_type": "code",
      "metadata": {
        "colab_type": "code",
        "id": "nYdibo15G3cp",
        "colab": {
          "base_uri": "https://localhost:8080/",
          "height": 980,
          "referenced_widgets": [
            "64fc881601c947caa7528480c11fa967",
            "5833d833164f478e94a4e23ed192fa16",
            "da51c05fa1ed4296b3d2ab440bbcb7df",
            "62afad411c924852b7e8ece7af9402f0",
            "f8fba6f54552415dbc01b78a00a21eec",
            "c58d509f76d54468aa550aa649f6d9a4",
            "eaaedf7790dd41728a6919b52bd3742b",
            "b4182c76299e40d3b7a7cb1d7f7d6522",
            "74f9b41850ed49f995d7a1c761b427cb",
            "6e140c0405444d779654346a5d69cdd3",
            "1c71c041690b4fd99b9244d273aea7cd",
            "9d0d4a91405a4c2292247bc1c062ce2e",
            "71a5f2adc1584912877d8e6fb6ad65fa",
            "f946e8b741d2463c9215c2fd83b884c6",
            "37b4c4e839fb484ab4133437437b758f",
            "1ade590272ff49eba605fb81e816fa67",
            "43ed1574fa3a46a18d39e143ddd309fc",
            "e7fd10fc15ae42618bb6c12795574ffc",
            "fd0c4a3c75e04734b1f3620e92cfee36",
            "5bd2ce3bb5e047dd8dd025ed41198929",
            "81b00350c9f746b0b4d99fcc04f673f7",
            "646b880b13724c75af7f9b14bf00c225",
            "de9809e6fa624840ad62d6375951e04e",
            "2a53b96cb8cd4035babf5fe1adb88456",
            "673b1f4881174c27916c116f29143f5c",
            "c2b90afa3fe444e6a6677447ffd16e47",
            "458fb2f9cc8f4149bc638385c73dc7f2",
            "d2d1952cb9734dada122daaa860f0fae",
            "26868cc00b2d448e8f02c4f9f184bb96",
            "3bd9596ac0644529b4929121734ff07e",
            "856a398107a143ee8e5f76ae4ef6b9c3",
            "e7736d039ef746b49e2796c39d7e8eac",
            "7be4669f3b6849b9a8e7c63f7c78bc63",
            "631f006e02074679a0e443b9f55eb7ba",
            "129d6e9009754c29a60d161754bfc487",
            "78e885b368e2467c870089ee2efeab6f",
            "2d1fbc1f54ed45d48e04387ff219ee97",
            "1319dc029e01471f9c434cf5e4ed0a2d",
            "0ba16c8249a34e55b4adc6d9fe0168ea",
            "dc9aba1f471446a09ac99b72a502fe79"
          ]
        },
        "outputId": "445098d8-bd70-4fbd-e5dd-672d199eb7f0"
      },
      "source": [
        "(dataset_train_original, dataset_validate_original, dataset_test_original), info = tfds.load(\n",
        "    name=\"eurosat/rgb\", \n",
        "    split=[\"train[:70%]\", \"train[70%:90%]\", \"train[90%:]\"],\n",
        "    with_info=True,\n",
        "    as_supervised=True\n",
        ")\n",
        "print(info)\n",
        "print(\"Train:   \", len(list(dataset_train_original)))\n",
        "print(\"Validate:\", len(list(dataset_validate_original)))\n",
        "print(\"Test:    \", len(list(dataset_test_original)))"
      ],
      "execution_count": null,
      "outputs": [
        {
          "output_type": "stream",
          "text": [
            "\u001b[1mDownloading and preparing dataset eurosat/rgb/2.0.0 (download: 89.91 MiB, generated: Unknown size, total: 89.91 MiB) to /root/tensorflow_datasets/eurosat/rgb/2.0.0...\u001b[0m\n"
          ],
          "name": "stdout"
        },
        {
          "output_type": "display_data",
          "data": {
            "application/vnd.jupyter.widget-view+json": {
              "model_id": "64fc881601c947caa7528480c11fa967",
              "version_minor": 0,
              "version_major": 2
            },
            "text/plain": [
              "HBox(children=(FloatProgress(value=1.0, bar_style='info', description='Dl Completed...', max=1.0, style=Progre…"
            ]
          },
          "metadata": {
            "tags": []
          }
        },
        {
          "output_type": "display_data",
          "data": {
            "application/vnd.jupyter.widget-view+json": {
              "model_id": "74f9b41850ed49f995d7a1c761b427cb",
              "version_minor": 0,
              "version_major": 2
            },
            "text/plain": [
              "HBox(children=(FloatProgress(value=1.0, bar_style='info', description='Dl Size...', max=1.0, style=ProgressSty…"
            ]
          },
          "metadata": {
            "tags": []
          }
        },
        {
          "output_type": "display_data",
          "data": {
            "application/vnd.jupyter.widget-view+json": {
              "model_id": "43ed1574fa3a46a18d39e143ddd309fc",
              "version_minor": 0,
              "version_major": 2
            },
            "text/plain": [
              "HBox(children=(FloatProgress(value=1.0, bar_style='info', description='Extraction completed...', max=1.0, styl…"
            ]
          },
          "metadata": {
            "tags": []
          }
        },
        {
          "output_type": "stream",
          "text": [
            "\n",
            "\n",
            "\n",
            "\n",
            "\n",
            "\n"
          ],
          "name": "stdout"
        },
        {
          "output_type": "display_data",
          "data": {
            "application/vnd.jupyter.widget-view+json": {
              "model_id": "673b1f4881174c27916c116f29143f5c",
              "version_minor": 0,
              "version_major": 2
            },
            "text/plain": [
              "HBox(children=(FloatProgress(value=1.0, bar_style='info', max=1.0), HTML(value='')))"
            ]
          },
          "metadata": {
            "tags": []
          }
        },
        {
          "output_type": "stream",
          "text": [
            "\rShuffling and writing examples to /root/tensorflow_datasets/eurosat/rgb/2.0.0.incompleteTBEU19/eurosat-train.tfrecord\n"
          ],
          "name": "stdout"
        },
        {
          "output_type": "display_data",
          "data": {
            "application/vnd.jupyter.widget-view+json": {
              "model_id": "7be4669f3b6849b9a8e7c63f7c78bc63",
              "version_minor": 0,
              "version_major": 2
            },
            "text/plain": [
              "HBox(children=(FloatProgress(value=0.0, max=27000.0), HTML(value='')))"
            ]
          },
          "metadata": {
            "tags": []
          }
        },
        {
          "output_type": "stream",
          "text": [
            "\u001b[1mDataset eurosat downloaded and prepared to /root/tensorflow_datasets/eurosat/rgb/2.0.0. Subsequent calls will reuse this data.\u001b[0m\n",
            "tfds.core.DatasetInfo(\n",
            "    name='eurosat',\n",
            "    version=2.0.0,\n",
            "    description='EuroSAT dataset is based on Sentinel-2 satellite images covering 13 spectral\n",
            "bands and consisting of 10 classes with 27000 labeled and\n",
            "geo-referenced samples.\n",
            "\n",
            "Two datasets are offered:\n",
            "- rgb: Contains only the optical R, G, B frequency bands encoded as JPEG image.\n",
            "- all: Contains all 13 bands in the original value range (float32).\n",
            "\n",
            "URL: https://github.com/phelber/eurosat\n",
            "',\n",
            "    homepage='https://github.com/phelber/eurosat',\n",
            "    features=FeaturesDict({\n",
            "        'filename': Text(shape=(), dtype=tf.string),\n",
            "        'image': Image(shape=(64, 64, 3), dtype=tf.uint8),\n",
            "        'label': ClassLabel(shape=(), dtype=tf.int64, num_classes=10),\n",
            "    }),\n",
            "    total_num_examples=27000,\n",
            "    splits={\n",
            "        'train': 27000,\n",
            "    },\n",
            "    supervised_keys=('image', 'label'),\n",
            "    citation=\"\"\"@misc{helber2017eurosat,\n",
            "        title={EuroSAT: A Novel Dataset and Deep Learning Benchmark for Land Use and Land Cover Classification},\n",
            "        author={Patrick Helber and Benjamin Bischke and Andreas Dengel and Damian Borth},\n",
            "        year={2017},\n",
            "        eprint={1709.00029},\n",
            "        archivePrefix={arXiv},\n",
            "        primaryClass={cs.CV}\n",
            "    }\"\"\",\n",
            "    redistribution_info=,\n",
            ")\n",
            "\n",
            "Train:    18900\n",
            "Validate: 5400\n",
            "Test:     2700\n"
          ],
          "name": "stdout"
        }
      ]
    },
    {
      "cell_type": "markdown",
      "metadata": {
        "colab_type": "text",
        "id": "vtZoUJNtG3cw"
      },
      "source": [
        "## Look at your data!\n",
        "\n",
        "As always: Never trust the source of your data. Even if you created it. Do not worry, this is not paranoia. It is just a good way how to ensure the quality of your project. Always look at your data, because most of the times if there is something not so nice, the data is the cause."
      ]
    },
    {
      "cell_type": "code",
      "metadata": {
        "colab_type": "code",
        "id": "iAwNcMGvNV6X",
        "colab": {}
      },
      "source": [
        "class_names = [\"annual crop\", \"forest\", \"herbaceous vegetation\", \"highway\", \"industrial\", \"pasture\", \"permanent crop\", \"residential\", \"river\", \"sea & lake\"]\n",
        "\n",
        "def label_to_string(label):\n",
        "  return class_names[label]"
      ],
      "execution_count": null,
      "outputs": []
    },
    {
      "cell_type": "code",
      "metadata": {
        "colab_type": "code",
        "id": "LChp7pOjG3cy",
        "colab": {
          "base_uri": "https://localhost:8080/",
          "height": 185
        },
        "outputId": "f79f2667-6631-48bf-d0ea-2b2bd35ae099"
      },
      "source": [
        "index = 1\n",
        "plt.figure(figsize=(20, 3))\n",
        "for dataset_example in dataset_train_original.take(7):\n",
        "    image, label = dataset_example\n",
        "\n",
        "    plt.subplot(1, 7, index)\n",
        "    plt.imshow(image.numpy())\n",
        "    plt.title(\"Label: {} {}\".format(label.numpy(), label_to_string(label.numpy())))\n",
        "    index += 1\n",
        "plt.show()\n",
        "plt.close()"
      ],
      "execution_count": null,
      "outputs": [
        {
          "output_type": "display_data",
          "data": {
            "image/png": "[encoded data removed]",
            "text/plain": [
              "<Figure size 1440x216 with 7 Axes>"
            ]
          },
          "metadata": {
            "tags": [],
            "needs_background": "light"
          }
        }
      ]
    },
    {
      "cell_type": "markdown",
      "metadata": {
        "colab_type": "text",
        "id": "8PNGuLhrG3c5"
      },
      "source": [
        "## Preparing the datasets with tf.data.\n",
        "\n",
        "We will make sure that all images are normalized and that all labes are one-hot-encoded.\n",
        "\n",
        "Link: [tf.data: Build TensorFlow input pipelines](https://www.tensorflow.org/guide/data)"
      ]
    },
    {
      "cell_type": "code",
      "metadata": {
        "colab_type": "code",
        "id": "-rjd0ZcDG3c7",
        "colab": {}
      },
      "source": [
        "def encode(image, label):\n",
        "    image_encoded = tf.image.convert_image_dtype(image, dtype=tf.float32)\n",
        "    label_encoded = tf.one_hot(label, depth=10)\n",
        "    return image_encoded, label_encoded\n",
        "\n",
        "dataset_train = dataset_train_original.map(lambda image, label: encode(image, label)).cache()\n",
        "dataset_validate = dataset_validate_original.map(lambda image, label: encode(image, label)).cache()\n",
        "dataset_test = dataset_test_original.map(lambda image, label: encode(image, label)).cache()"
      ],
      "execution_count": null,
      "outputs": []
    },
    {
      "cell_type": "markdown",
      "metadata": {
        "colab_type": "text",
        "id": "D8GKidgGG3dD"
      },
      "source": [
        "## A second look at our data.\n",
        "\n",
        "This is how the data looks like that the Neural Network will be trained on."
      ]
    },
    {
      "cell_type": "code",
      "metadata": {
        "colab_type": "code",
        "id": "R9RPxyyIG3dG",
        "colab": {
          "base_uri": "https://localhost:8080/",
          "height": 180
        },
        "outputId": "e99d9447-bfdf-4439-f5f2-50f2a7afaa63"
      },
      "source": [
        "index = 1\n",
        "plt.figure(figsize=(20, 2))\n",
        "for dataset_example in dataset_train.take(6):\n",
        "    image, label = dataset_example\n",
        "\n",
        "    plt.subplot(1, 6, index)\n",
        "    plt.imshow(image.numpy())\n",
        "    plt.title(\"Label:\\n {}\".format(label.numpy()))\n",
        "    index += 1\n",
        "plt.show()\n",
        "plt.close()"
      ],
      "execution_count": null,
      "outputs": [
        {
          "output_type": "display_data",
          "data": {
            "image/png": "[encoded data removed]",
            "text/plain": [
              "<Figure size 1440x144 with 6 Axes>"
            ]
          },
          "metadata": {
            "tags": [],
            "needs_background": "light"
          }
        }
      ]
    },
    {
      "cell_type": "markdown",
      "metadata": {
        "colab_type": "text",
        "id": "LcvN5iQ2G3dL"
      },
      "source": [
        "## Create a Deep Neural Network to solve our classification problem - Convolutional Neural Network.\n"
      ]
    },
    {
      "cell_type": "code",
      "metadata": {
        "colab_type": "code",
        "id": "oiA62ErpG3dL",
        "colab": {
          "base_uri": "https://localhost:8080/",
          "height": 537
        },
        "outputId": "ab57c0a0-d23e-4582-83f4-d9b281377240"
      },
      "source": [
        "model = models.Sequential()\n",
        "\n",
        "# Convolutional block 1.\n",
        "model.add(layers.Conv2D(32, (3, 3), activation=\"relu\", padding=\"same\", input_shape=(64, 64, 3)))\n",
        "model.add(layers.Conv2D(32, (3, 3), activation=\"relu\", padding=\"same\"))\n",
        "model.add(layers.MaxPooling2D((2, 2)))\n",
        "\n",
        "# Convolutional block 2.\n",
        "model.add(layers.Conv2D(64, (3, 3), activation=\"relu\", padding=\"same\"))\n",
        "model.add(layers.Conv2D(64, (3, 3), activation=\"relu\", padding=\"same\"))\n",
        "model.add(layers.MaxPooling2D((2, 2)))\n",
        "\n",
        "# Convolutional block 3.\n",
        "model.add(layers.Conv2D(128, (3, 3), activation=\"relu\", padding=\"same\"))\n",
        "model.add(layers.Conv2D(128, (3, 3), activation=\"relu\", padding=\"same\"))\n",
        "\n",
        "# Latent space.\n",
        "model.add(layers.Flatten())\n",
        "\n",
        "# Classifier.\n",
        "model.add(layers.Dense(128, activation=\"relu\"))\n",
        "model.add(layers.Dense(10, activation=\"softmax\"))\n",
        "\n",
        "model.summary()"
      ],
      "execution_count": null,
      "outputs": [
        {
          "output_type": "stream",
          "text": [
            "Model: \"sequential\"\n",
            "_________________________________________________________________\n",
            "Layer (type)                 Output Shape              Param #   \n",
            "=================================================================\n",
            "conv2d (Conv2D)              (None, 64, 64, 32)        896       \n",
            "_________________________________________________________________\n",
            "conv2d_1 (Conv2D)            (None, 64, 64, 32)        9248      \n",
            "_________________________________________________________________\n",
            "max_pooling2d (MaxPooling2D) (None, 32, 32, 32)        0         \n",
            "_________________________________________________________________\n",
            "conv2d_2 (Conv2D)            (None, 32, 32, 64)        18496     \n",
            "_________________________________________________________________\n",
            "conv2d_3 (Conv2D)            (None, 32, 32, 64)        36928     \n",
            "_________________________________________________________________\n",
            "max_pooling2d_1 (MaxPooling2 (None, 16, 16, 64)        0         \n",
            "_________________________________________________________________\n",
            "conv2d_4 (Conv2D)            (None, 16, 16, 128)       73856     \n",
            "_________________________________________________________________\n",
            "conv2d_5 (Conv2D)            (None, 16, 16, 128)       147584    \n",
            "_________________________________________________________________\n",
            "flatten (Flatten)            (None, 32768)             0         \n",
            "_________________________________________________________________\n",
            "dense (Dense)                (None, 128)               4194432   \n",
            "_________________________________________________________________\n",
            "dense_1 (Dense)              (None, 10)                1290      \n",
            "=================================================================\n",
            "Total params: 4,482,730\n",
            "Trainable params: 4,482,730\n",
            "Non-trainable params: 0\n",
            "_________________________________________________________________\n"
          ],
          "name": "stdout"
        }
      ]
    },
    {
      "cell_type": "markdown",
      "metadata": {
        "colab_type": "text",
        "id": "_Igm2pw-G3dR"
      },
      "source": [
        "---\n",
        "\n",
        "The architecture exhibits three structures:\n",
        "\n",
        "1. The Convolutional blocks act as Feature Extractors.\n",
        "2. The Flatten layer facilitates a Latent Space.\n",
        "3. The Dense layers is the actual classifier."
      ]
    },
    {
      "cell_type": "markdown",
      "metadata": {
        "colab_type": "text",
        "id": "IKsmb4szG3dT"
      },
      "source": [
        "## Attach optimizer, loss, and metrics."
      ]
    },
    {
      "cell_type": "code",
      "metadata": {
        "colab_type": "code",
        "id": "cMUwx-wKG3dU",
        "colab": {}
      },
      "source": [
        "model.compile(\n",
        "    optimizer=\"adam\",\n",
        "    loss=\"categorical_crossentropy\",\n",
        "    metrics=[\"accuracy\"]\n",
        ")"
      ],
      "execution_count": null,
      "outputs": []
    },
    {
      "cell_type": "markdown",
      "metadata": {
        "colab_type": "text",
        "id": "OfjuGdxTG3dh"
      },
      "source": [
        "## How good is our ANN before training?"
      ]
    },
    {
      "cell_type": "code",
      "metadata": {
        "colab_type": "code",
        "id": "trqPkFSvG3di",
        "colab": {
          "base_uri": "https://localhost:8080/",
          "height": 52
        },
        "outputId": "e90ee26c-bb6d-4285-a78e-5c187d0d6119"
      },
      "source": [
        "loss, acc = model.evaluate(dataset_test.batch(32), verbose=0)\n",
        "print(\"Loss: {}\".format(loss))\n",
        "print(\"Accuracy: {}\".format(acc))"
      ],
      "execution_count": null,
      "outputs": [
        {
          "output_type": "stream",
          "text": [
            "Loss: 2.304682731628418\n",
            "Accuracy: 0.07666666805744171\n"
          ],
          "name": "stdout"
        }
      ]
    },
    {
      "cell_type": "markdown",
      "metadata": {
        "colab_type": "text",
        "id": "RaMMcUDRG3do"
      },
      "source": [
        "## ANN training."
      ]
    },
    {
      "cell_type": "code",
      "metadata": {
        "colab_type": "code",
        "id": "LruQUszWG3dp",
        "colab": {
          "base_uri": "https://localhost:8080/",
          "height": 1000
        },
        "outputId": "85596678-7e78-4a0c-933f-0640113b1bd3"
      },
      "source": [
        "history = model.fit(\n",
        "    dataset_train.shuffle(10000).batch(batch_size),\n",
        "    epochs=epochs,\n",
        "    validation_data=dataset_validate.batch(batch_size)\n",
        ")\n",
        "\n",
        "histories[\"Baseline\"] = history"
      ],
      "execution_count": null,
      "outputs": [
        {
          "output_type": "stream",
          "text": [
            "Epoch 1/100\n",
            "19/19 [==============================] - 13s 703ms/step - loss: 2.0739 - accuracy: 0.2243 - val_loss: 1.8379 - val_accuracy: 0.2754\n",
            "Epoch 2/100\n",
            "19/19 [==============================] - 7s 368ms/step - loss: 1.6139 - accuracy: 0.3613 - val_loss: 1.4476 - val_accuracy: 0.3994\n",
            "Epoch 3/100\n",
            "19/19 [==============================] - 7s 364ms/step - loss: 1.3461 - accuracy: 0.4614 - val_loss: 1.2324 - val_accuracy: 0.5319\n",
            "Epoch 4/100\n",
            "19/19 [==============================] - 7s 363ms/step - loss: 1.1727 - accuracy: 0.5584 - val_loss: 1.1605 - val_accuracy: 0.5676\n",
            "Epoch 5/100\n",
            "19/19 [==============================] - 7s 362ms/step - loss: 1.0206 - accuracy: 0.6283 - val_loss: 0.9158 - val_accuracy: 0.6665\n",
            "Epoch 6/100\n",
            "19/19 [==============================] - 7s 359ms/step - loss: 1.0658 - accuracy: 0.6147 - val_loss: 1.0190 - val_accuracy: 0.6226\n",
            "Epoch 7/100\n",
            "19/19 [==============================] - 7s 358ms/step - loss: 0.8868 - accuracy: 0.6768 - val_loss: 0.9319 - val_accuracy: 0.6681\n",
            "Epoch 8/100\n",
            "19/19 [==============================] - 7s 359ms/step - loss: 0.8018 - accuracy: 0.7074 - val_loss: 0.7385 - val_accuracy: 0.7370\n",
            "Epoch 9/100\n",
            "19/19 [==============================] - 7s 360ms/step - loss: 0.7630 - accuracy: 0.7231 - val_loss: 0.7538 - val_accuracy: 0.7309\n",
            "Epoch 10/100\n",
            "19/19 [==============================] - 7s 361ms/step - loss: 0.7225 - accuracy: 0.7366 - val_loss: 0.7835 - val_accuracy: 0.7231\n",
            "Epoch 11/100\n",
            "19/19 [==============================] - 7s 361ms/step - loss: 0.6392 - accuracy: 0.7666 - val_loss: 0.6178 - val_accuracy: 0.7793\n",
            "Epoch 12/100\n",
            "19/19 [==============================] - 7s 362ms/step - loss: 0.9250 - accuracy: 0.6860 - val_loss: 1.0385 - val_accuracy: 0.6398\n",
            "Epoch 13/100\n",
            "19/19 [==============================] - 7s 360ms/step - loss: 0.8416 - accuracy: 0.6986 - val_loss: 0.7617 - val_accuracy: 0.7300\n",
            "Epoch 14/100\n",
            "19/19 [==============================] - 7s 362ms/step - loss: 0.6684 - accuracy: 0.7622 - val_loss: 0.6615 - val_accuracy: 0.7694\n",
            "Epoch 15/100\n",
            "19/19 [==============================] - 7s 362ms/step - loss: 0.5520 - accuracy: 0.8023 - val_loss: 0.6530 - val_accuracy: 0.7611\n",
            "Epoch 16/100\n",
            "19/19 [==============================] - 7s 360ms/step - loss: 0.5109 - accuracy: 0.8168 - val_loss: 0.6474 - val_accuracy: 0.7717\n",
            "Epoch 17/100\n",
            "19/19 [==============================] - 7s 360ms/step - loss: 0.5842 - accuracy: 0.7919 - val_loss: 0.6085 - val_accuracy: 0.7819\n",
            "Epoch 18/100\n",
            "19/19 [==============================] - 7s 360ms/step - loss: 0.4614 - accuracy: 0.8381 - val_loss: 0.5457 - val_accuracy: 0.8009\n",
            "Epoch 19/100\n",
            "19/19 [==============================] - 7s 361ms/step - loss: 0.4046 - accuracy: 0.8554 - val_loss: 0.4925 - val_accuracy: 0.8276\n",
            "Epoch 20/100\n",
            "19/19 [==============================] - 7s 361ms/step - loss: 0.3706 - accuracy: 0.8696 - val_loss: 0.5140 - val_accuracy: 0.8211\n",
            "Epoch 21/100\n",
            "19/19 [==============================] - 7s 360ms/step - loss: 0.3590 - accuracy: 0.8721 - val_loss: 0.4784 - val_accuracy: 0.8278\n",
            "Epoch 22/100\n",
            "19/19 [==============================] - 7s 361ms/step - loss: 0.3792 - accuracy: 0.8667 - val_loss: 0.5545 - val_accuracy: 0.8070\n",
            "Epoch 23/100\n",
            "19/19 [==============================] - 7s 360ms/step - loss: 0.3697 - accuracy: 0.8707 - val_loss: 0.4797 - val_accuracy: 0.8319\n",
            "Epoch 24/100\n",
            "19/19 [==============================] - 7s 362ms/step - loss: 0.3043 - accuracy: 0.8929 - val_loss: 0.4735 - val_accuracy: 0.8385\n",
            "Epoch 25/100\n",
            "19/19 [==============================] - 7s 360ms/step - loss: 0.2659 - accuracy: 0.9076 - val_loss: 0.4957 - val_accuracy: 0.8344\n",
            "Epoch 26/100\n",
            "19/19 [==============================] - 7s 362ms/step - loss: 0.2492 - accuracy: 0.9126 - val_loss: 0.5133 - val_accuracy: 0.8259\n",
            "Epoch 27/100\n",
            "19/19 [==============================] - 7s 362ms/step - loss: 0.2667 - accuracy: 0.9072 - val_loss: 0.5397 - val_accuracy: 0.8244\n",
            "Epoch 28/100\n",
            "19/19 [==============================] - 7s 361ms/step - loss: 0.2587 - accuracy: 0.9101 - val_loss: 0.4981 - val_accuracy: 0.8346\n",
            "Epoch 29/100\n",
            "19/19 [==============================] - 7s 362ms/step - loss: 0.2103 - accuracy: 0.9277 - val_loss: 0.5196 - val_accuracy: 0.8313\n",
            "Epoch 30/100\n",
            "19/19 [==============================] - 7s 361ms/step - loss: 0.2261 - accuracy: 0.9213 - val_loss: 0.6205 - val_accuracy: 0.8133\n",
            "Epoch 31/100\n",
            "19/19 [==============================] - 7s 360ms/step - loss: 0.2660 - accuracy: 0.9057 - val_loss: 0.4996 - val_accuracy: 0.8380\n",
            "Epoch 32/100\n",
            "19/19 [==============================] - 7s 360ms/step - loss: 0.1488 - accuracy: 0.9526 - val_loss: 0.5319 - val_accuracy: 0.8459\n",
            "Epoch 33/100\n",
            "19/19 [==============================] - 7s 360ms/step - loss: 0.1300 - accuracy: 0.9585 - val_loss: 0.5399 - val_accuracy: 0.8443\n",
            "Epoch 34/100\n",
            "19/19 [==============================] - 7s 361ms/step - loss: 0.1267 - accuracy: 0.9577 - val_loss: 0.6071 - val_accuracy: 0.8265\n",
            "Epoch 35/100\n",
            "19/19 [==============================] - 7s 361ms/step - loss: 0.1815 - accuracy: 0.9377 - val_loss: 0.5994 - val_accuracy: 0.8233\n",
            "Epoch 36/100\n",
            "19/19 [==============================] - 7s 360ms/step - loss: 0.1599 - accuracy: 0.9474 - val_loss: 0.6139 - val_accuracy: 0.8319\n",
            "Epoch 37/100\n",
            "19/19 [==============================] - 7s 361ms/step - loss: 0.1095 - accuracy: 0.9638 - val_loss: 0.5884 - val_accuracy: 0.8431\n",
            "Epoch 38/100\n",
            "19/19 [==============================] - 7s 361ms/step - loss: 0.0696 - accuracy: 0.9789 - val_loss: 0.6618 - val_accuracy: 0.8422\n",
            "Epoch 39/100\n",
            "19/19 [==============================] - 7s 361ms/step - loss: 0.0706 - accuracy: 0.9786 - val_loss: 0.7280 - val_accuracy: 0.8335\n",
            "Epoch 40/100\n",
            "19/19 [==============================] - 7s 360ms/step - loss: 0.0720 - accuracy: 0.9775 - val_loss: 0.6844 - val_accuracy: 0.8443\n",
            "Epoch 41/100\n",
            "19/19 [==============================] - 7s 362ms/step - loss: 0.0454 - accuracy: 0.9890 - val_loss: 0.7025 - val_accuracy: 0.8472\n",
            "Epoch 42/100\n",
            "19/19 [==============================] - 7s 362ms/step - loss: 0.0386 - accuracy: 0.9896 - val_loss: 0.7847 - val_accuracy: 0.8411\n",
            "Epoch 43/100\n",
            "19/19 [==============================] - 7s 362ms/step - loss: 0.0398 - accuracy: 0.9894 - val_loss: 0.7848 - val_accuracy: 0.8415\n",
            "Epoch 44/100\n",
            "19/19 [==============================] - 7s 361ms/step - loss: 0.0287 - accuracy: 0.9934 - val_loss: 0.8005 - val_accuracy: 0.8444\n",
            "Epoch 45/100\n",
            "19/19 [==============================] - 7s 363ms/step - loss: 0.0253 - accuracy: 0.9935 - val_loss: 0.8170 - val_accuracy: 0.8448\n",
            "Epoch 46/100\n",
            "19/19 [==============================] - 7s 362ms/step - loss: 0.0265 - accuracy: 0.9934 - val_loss: 0.8722 - val_accuracy: 0.8426\n",
            "Epoch 47/100\n",
            "19/19 [==============================] - 7s 358ms/step - loss: 3.0268 - accuracy: 0.5306 - val_loss: 1.9147 - val_accuracy: 0.2352\n",
            "Epoch 48/100\n",
            "19/19 [==============================] - 7s 353ms/step - loss: 1.7580 - accuracy: 0.3072 - val_loss: 1.6830 - val_accuracy: 0.3457\n",
            "Epoch 49/100\n",
            "19/19 [==============================] - 7s 354ms/step - loss: 1.5448 - accuracy: 0.4233 - val_loss: 1.4577 - val_accuracy: 0.4913\n",
            "Epoch 50/100\n",
            "19/19 [==============================] - 7s 353ms/step - loss: 1.5134 - accuracy: 0.4770 - val_loss: 1.4791 - val_accuracy: 0.4443\n",
            "Epoch 51/100\n",
            "19/19 [==============================] - 7s 353ms/step - loss: 1.3422 - accuracy: 0.5210 - val_loss: 1.4948 - val_accuracy: 0.4433\n",
            "Epoch 52/100\n",
            "19/19 [==============================] - 7s 354ms/step - loss: 1.1646 - accuracy: 0.5884 - val_loss: 1.1614 - val_accuracy: 0.5748\n",
            "Epoch 53/100\n",
            "19/19 [==============================] - 7s 354ms/step - loss: 1.0622 - accuracy: 0.6173 - val_loss: 1.0156 - val_accuracy: 0.6311\n",
            "Epoch 54/100\n",
            "19/19 [==============================] - 7s 353ms/step - loss: 0.9562 - accuracy: 0.6543 - val_loss: 0.9143 - val_accuracy: 0.6863\n",
            "Epoch 55/100\n",
            "19/19 [==============================] - 7s 353ms/step - loss: 0.9743 - accuracy: 0.6450 - val_loss: 0.9834 - val_accuracy: 0.6380\n",
            "Epoch 56/100\n",
            "19/19 [==============================] - 7s 353ms/step - loss: 0.8229 - accuracy: 0.7047 - val_loss: 0.8774 - val_accuracy: 0.6843\n",
            "Epoch 57/100\n",
            "19/19 [==============================] - 7s 352ms/step - loss: 0.7581 - accuracy: 0.7275 - val_loss: 0.7856 - val_accuracy: 0.7198\n",
            "Epoch 58/100\n",
            "19/19 [==============================] - 7s 352ms/step - loss: 1.1471 - accuracy: 0.6000 - val_loss: 1.0243 - val_accuracy: 0.6235\n",
            "Epoch 59/100\n",
            "19/19 [==============================] - 7s 353ms/step - loss: 0.8128 - accuracy: 0.7142 - val_loss: 0.8303 - val_accuracy: 0.7104\n",
            "Epoch 60/100\n",
            "19/19 [==============================] - 7s 352ms/step - loss: 0.6640 - accuracy: 0.7644 - val_loss: 0.7441 - val_accuracy: 0.7424\n",
            "Epoch 61/100\n",
            "19/19 [==============================] - 7s 352ms/step - loss: 0.6363 - accuracy: 0.7742 - val_loss: 0.7992 - val_accuracy: 0.7181\n",
            "Epoch 62/100\n",
            "19/19 [==============================] - 7s 353ms/step - loss: 0.5785 - accuracy: 0.7946 - val_loss: 0.7253 - val_accuracy: 0.7478\n",
            "Epoch 63/100\n",
            "19/19 [==============================] - 7s 354ms/step - loss: 0.5044 - accuracy: 0.8192 - val_loss: 0.7161 - val_accuracy: 0.7556\n",
            "Epoch 64/100\n",
            "19/19 [==============================] - 7s 353ms/step - loss: 0.5670 - accuracy: 0.7970 - val_loss: 0.7719 - val_accuracy: 0.7294\n",
            "Epoch 65/100\n",
            "19/19 [==============================] - 7s 353ms/step - loss: 0.5154 - accuracy: 0.8177 - val_loss: 0.6780 - val_accuracy: 0.7656\n",
            "Epoch 66/100\n",
            "19/19 [==============================] - 7s 353ms/step - loss: 0.4302 - accuracy: 0.8466 - val_loss: 0.6901 - val_accuracy: 0.7681\n",
            "Epoch 67/100\n",
            "19/19 [==============================] - 7s 353ms/step - loss: 0.3928 - accuracy: 0.8620 - val_loss: 0.7055 - val_accuracy: 0.7613\n",
            "Epoch 68/100\n",
            "19/19 [==============================] - 7s 355ms/step - loss: 0.3449 - accuracy: 0.8819 - val_loss: 0.6493 - val_accuracy: 0.7861\n",
            "Epoch 69/100\n",
            "19/19 [==============================] - 7s 353ms/step - loss: 0.3380 - accuracy: 0.8827 - val_loss: 0.6974 - val_accuracy: 0.7741\n",
            "Epoch 70/100\n",
            "19/19 [==============================] - 7s 353ms/step - loss: 0.3184 - accuracy: 0.8893 - val_loss: 0.6861 - val_accuracy: 0.7793\n",
            "Epoch 71/100\n",
            "19/19 [==============================] - 7s 353ms/step - loss: 0.3323 - accuracy: 0.8857 - val_loss: 0.7359 - val_accuracy: 0.7696\n",
            "Epoch 72/100\n",
            "19/19 [==============================] - 7s 352ms/step - loss: 0.2795 - accuracy: 0.9047 - val_loss: 0.7012 - val_accuracy: 0.7820\n",
            "Epoch 73/100\n",
            "19/19 [==============================] - 7s 353ms/step - loss: 0.2340 - accuracy: 0.9232 - val_loss: 0.7773 - val_accuracy: 0.7802\n",
            "Epoch 74/100\n",
            "19/19 [==============================] - 7s 353ms/step - loss: 0.2157 - accuracy: 0.9292 - val_loss: 0.7896 - val_accuracy: 0.7824\n",
            "Epoch 75/100\n",
            "19/19 [==============================] - 7s 353ms/step - loss: 0.2040 - accuracy: 0.9338 - val_loss: 0.7937 - val_accuracy: 0.7757\n",
            "Epoch 76/100\n",
            "19/19 [==============================] - 7s 354ms/step - loss: 0.2076 - accuracy: 0.9315 - val_loss: 0.9193 - val_accuracy: 0.7565\n",
            "Epoch 77/100\n",
            "19/19 [==============================] - 7s 353ms/step - loss: 0.1960 - accuracy: 0.9350 - val_loss: 0.8783 - val_accuracy: 0.7743\n",
            "Epoch 78/100\n",
            "19/19 [==============================] - 7s 353ms/step - loss: 0.1625 - accuracy: 0.9474 - val_loss: 1.0235 - val_accuracy: 0.7472\n",
            "Epoch 79/100\n",
            "19/19 [==============================] - 7s 353ms/step - loss: 0.2102 - accuracy: 0.9304 - val_loss: 0.8849 - val_accuracy: 0.7739\n",
            "Epoch 80/100\n",
            "19/19 [==============================] - 7s 353ms/step - loss: 0.1670 - accuracy: 0.9435 - val_loss: 0.9029 - val_accuracy: 0.7750\n",
            "Epoch 81/100\n",
            "19/19 [==============================] - 7s 354ms/step - loss: 0.1295 - accuracy: 0.9602 - val_loss: 0.9458 - val_accuracy: 0.7798\n",
            "Epoch 82/100\n",
            "19/19 [==============================] - 7s 356ms/step - loss: 0.1088 - accuracy: 0.9676 - val_loss: 1.0132 - val_accuracy: 0.7728\n",
            "Epoch 83/100\n",
            "19/19 [==============================] - 7s 354ms/step - loss: 0.0939 - accuracy: 0.9732 - val_loss: 1.0545 - val_accuracy: 0.7730\n",
            "Epoch 84/100\n",
            "19/19 [==============================] - 7s 354ms/step - loss: 0.1024 - accuracy: 0.9681 - val_loss: 1.0445 - val_accuracy: 0.7724\n",
            "Epoch 85/100\n",
            "19/19 [==============================] - 7s 354ms/step - loss: 0.0736 - accuracy: 0.9803 - val_loss: 1.1247 - val_accuracy: 0.7674\n",
            "Epoch 86/100\n",
            "19/19 [==============================] - 7s 353ms/step - loss: 0.0672 - accuracy: 0.9819 - val_loss: 1.1398 - val_accuracy: 0.7783\n",
            "Epoch 87/100\n",
            "19/19 [==============================] - 7s 353ms/step - loss: 0.0574 - accuracy: 0.9850 - val_loss: 1.2221 - val_accuracy: 0.7772\n",
            "Epoch 88/100\n",
            "19/19 [==============================] - 7s 354ms/step - loss: 0.0761 - accuracy: 0.9775 - val_loss: 1.3067 - val_accuracy: 0.7607\n",
            "Epoch 89/100\n",
            "19/19 [==============================] - 7s 354ms/step - loss: 0.1373 - accuracy: 0.9530 - val_loss: 1.2890 - val_accuracy: 0.7604\n",
            "Epoch 90/100\n",
            "19/19 [==============================] - 7s 354ms/step - loss: 0.0876 - accuracy: 0.9738 - val_loss: 1.2422 - val_accuracy: 0.7648\n",
            "Epoch 91/100\n",
            "19/19 [==============================] - 7s 353ms/step - loss: 0.0819 - accuracy: 0.9748 - val_loss: 1.1832 - val_accuracy: 0.7794\n",
            "Epoch 92/100\n",
            "19/19 [==============================] - 7s 353ms/step - loss: 0.0534 - accuracy: 0.9855 - val_loss: 1.2543 - val_accuracy: 0.7693\n",
            "Epoch 93/100\n",
            "19/19 [==============================] - 7s 353ms/step - loss: 0.0400 - accuracy: 0.9902 - val_loss: 1.3427 - val_accuracy: 0.7757\n",
            "Epoch 94/100\n",
            "19/19 [==============================] - 7s 354ms/step - loss: 0.0288 - accuracy: 0.9937 - val_loss: 1.3809 - val_accuracy: 0.7739\n",
            "Epoch 95/100\n",
            "19/19 [==============================] - 7s 353ms/step - loss: 0.0246 - accuracy: 0.9942 - val_loss: 1.4453 - val_accuracy: 0.7783\n",
            "Epoch 96/100\n",
            "19/19 [==============================] - 7s 354ms/step - loss: 0.0209 - accuracy: 0.9959 - val_loss: 1.5048 - val_accuracy: 0.7706\n",
            "Epoch 97/100\n",
            "19/19 [==============================] - 7s 354ms/step - loss: 0.0197 - accuracy: 0.9954 - val_loss: 1.5266 - val_accuracy: 0.7756\n",
            "Epoch 98/100\n",
            "19/19 [==============================] - 7s 355ms/step - loss: 0.0197 - accuracy: 0.9961 - val_loss: 1.7419 - val_accuracy: 0.7474\n",
            "Epoch 99/100\n",
            "19/19 [==============================] - 7s 354ms/step - loss: 0.2496 - accuracy: 0.9256 - val_loss: 1.5815 - val_accuracy: 0.7156\n",
            "Epoch 100/100\n",
            "19/19 [==============================] - 7s 354ms/step - loss: 0.1955 - accuracy: 0.9316 - val_loss: 1.1409 - val_accuracy: 0.7669\n"
          ],
          "name": "stdout"
        }
      ]
    },
    {
      "cell_type": "markdown",
      "metadata": {
        "colab_type": "text",
        "id": "Lrv3V0AWG3dt"
      },
      "source": [
        "## Inspect the history.\n",
        "\n"
      ]
    },
    {
      "cell_type": "code",
      "metadata": {
        "colab_type": "code",
        "id": "afcWFJZHG3dv",
        "colab": {
          "base_uri": "https://localhost:8080/",
          "height": 281
        },
        "outputId": "08e2e365-b592-4c7e-ab47-d2584d96d300"
      },
      "source": [
        "def plot_history(history):\n",
        "  plt.figure(figsize=(10, 4))\n",
        "\n",
        "  plt.subplot(1, 2, 1)\n",
        "  plt.plot(history.history[\"loss\"], label=\"loss\")\n",
        "  plt.plot(history.history[\"val_loss\"], label=\"val_loss\")\n",
        "  plt.legend()\n",
        "  plt.title(\"Losses\")\n",
        "\n",
        "  plt.subplot(1, 2, 2)\n",
        "  plt.plot(history.history[\"accuracy\"], label=\"accuracy\")\n",
        "  plt.plot(history.history[\"val_accuracy\"], label=\"val_accuracy\")\n",
        "  plt.legend()\n",
        "  plt.title(\"Metrics\")\n",
        "\n",
        "  plt.show()\n",
        "  plt.close()\n",
        "\n",
        "plot_history(history)"
      ],
      "execution_count": null,
      "outputs": [
        {
          "output_type": "display_data",
          "data": {
            "image/png": "[encoded data removed]",
            "text/plain": [
              "<Figure size 720x288 with 2 Axes>"
            ]
          },
          "metadata": {
            "tags": [],
            "needs_background": "light"
          }
        }
      ]
    },
    {
      "cell_type": "markdown",
      "metadata": {
        "colab_type": "text",
        "id": "_Lpuei4adHE-"
      },
      "source": [
        "---\n",
        "\n",
        "Although the problem is solved, we have some severe overfitting."
      ]
    },
    {
      "cell_type": "markdown",
      "metadata": {
        "colab_type": "text",
        "id": "SsIYy321G3d0"
      },
      "source": [
        "## How good is our ANN after training?\n"
      ]
    },
    {
      "cell_type": "code",
      "metadata": {
        "colab_type": "code",
        "id": "v9tVgnvVG3d7",
        "colab": {
          "base_uri": "https://localhost:8080/",
          "height": 52
        },
        "outputId": "36ca2631-c1ba-483a-c14f-2f15c5bc628a"
      },
      "source": [
        "loss, acc = model.evaluate(dataset_test.batch(32), verbose=0)\n",
        "print(\"Loss: {}\".format(loss))\n",
        "print(\"Accuracy: {}\".format(acc))"
      ],
      "execution_count": null,
      "outputs": [
        {
          "output_type": "stream",
          "text": [
            "Loss: 1.0708227157592773\n",
            "Accuracy: 0.7648147940635681\n"
          ],
          "name": "stdout"
        }
      ]
    },
    {
      "cell_type": "markdown",
      "metadata": {
        "colab_type": "text",
        "id": "yUdumMX202M6"
      },
      "source": [
        "## Reducing overfitting by adding dropout.\n",
        "\n",
        "Dropout enforces generalization by randomly dropping activations during training."
      ]
    },
    {
      "cell_type": "code",
      "metadata": {
        "colab_type": "code",
        "id": "t5DbZiOM6rPV",
        "colab": {}
      },
      "source": [
        "dataset_train = dataset_train_original.map(lambda image, label: encode(image, label)).cache()\n",
        "dataset_validate = dataset_validate_original.map(lambda image, label: encode(image, label)).cache()\n",
        "dataset_test = dataset_test_original.map(lambda image, label: encode(image, label)).cache()"
      ],
      "execution_count": null,
      "outputs": []
    },
    {
      "cell_type": "code",
      "metadata": {
        "colab_type": "code",
        "id": "EOe6oOOH6tb6",
        "colab": {
          "base_uri": "https://localhost:8080/",
          "height": 676
        },
        "outputId": "b638bc85-81ec-483e-a0d2-ee2cf062dd06"
      },
      "source": [
        "model = models.Sequential()\n",
        "\n",
        "model.add(layers.Conv2D(32, (3, 3), activation=\"relu\", padding=\"same\", input_shape=(64, 64, 3)))\n",
        "model.add(layers.Conv2D(32, (3, 3), activation=\"relu\", padding=\"same\"))\n",
        "model.add(layers.MaxPooling2D((2, 2)))\n",
        "model.add(layers.Dropout(0.2))\n",
        "\n",
        "model.add(layers.Conv2D(64, (3, 3), activation=\"relu\", padding=\"same\"))\n",
        "model.add(layers.Conv2D(64, (3, 3), activation=\"relu\", padding=\"same\"))\n",
        "model.add(layers.MaxPooling2D((2, 2)))\n",
        "model.add(layers.Dropout(0.3))\n",
        "\n",
        "model.add(layers.Conv2D(128, (3, 3), activation=\"relu\", padding=\"same\"))\n",
        "model.add(layers.Conv2D(128, (3, 3), activation=\"relu\", padding=\"same\"))\n",
        "model.add(layers.Dropout(0.4))\n",
        "\n",
        "model.add(layers.Flatten())\n",
        "\n",
        "model.add(layers.Dense(128, activation=\"relu\"))\n",
        "model.add(layers.Dropout(0.5))\n",
        "model.add(layers.Dense(10, activation=\"softmax\"))\n",
        "\n",
        "model.summary()"
      ],
      "execution_count": null,
      "outputs": [
        {
          "output_type": "stream",
          "text": [
            "Model: \"sequential_1\"\n",
            "_________________________________________________________________\n",
            "Layer (type)                 Output Shape              Param #   \n",
            "=================================================================\n",
            "conv2d_6 (Conv2D)            (None, 64, 64, 32)        896       \n",
            "_________________________________________________________________\n",
            "conv2d_7 (Conv2D)            (None, 64, 64, 32)        9248      \n",
            "_________________________________________________________________\n",
            "max_pooling2d_2 (MaxPooling2 (None, 32, 32, 32)        0         \n",
            "_________________________________________________________________\n",
            "dropout (Dropout)            (None, 32, 32, 32)        0         \n",
            "_________________________________________________________________\n",
            "conv2d_8 (Conv2D)            (None, 32, 32, 64)        18496     \n",
            "_________________________________________________________________\n",
            "conv2d_9 (Conv2D)            (None, 32, 32, 64)        36928     \n",
            "_________________________________________________________________\n",
            "max_pooling2d_3 (MaxPooling2 (None, 16, 16, 64)        0         \n",
            "_________________________________________________________________\n",
            "dropout_1 (Dropout)          (None, 16, 16, 64)        0         \n",
            "_________________________________________________________________\n",
            "conv2d_10 (Conv2D)           (None, 16, 16, 128)       73856     \n",
            "_________________________________________________________________\n",
            "conv2d_11 (Conv2D)           (None, 16, 16, 128)       147584    \n",
            "_________________________________________________________________\n",
            "dropout_2 (Dropout)          (None, 16, 16, 128)       0         \n",
            "_________________________________________________________________\n",
            "flatten_1 (Flatten)          (None, 32768)             0         \n",
            "_________________________________________________________________\n",
            "dense_2 (Dense)              (None, 128)               4194432   \n",
            "_________________________________________________________________\n",
            "dropout_3 (Dropout)          (None, 128)               0         \n",
            "_________________________________________________________________\n",
            "dense_3 (Dense)              (None, 10)                1290      \n",
            "=================================================================\n",
            "Total params: 4,482,730\n",
            "Trainable params: 4,482,730\n",
            "Non-trainable params: 0\n",
            "_________________________________________________________________\n"
          ],
          "name": "stdout"
        }
      ]
    },
    {
      "cell_type": "code",
      "metadata": {
        "colab_type": "code",
        "id": "XrSpE4Vj6uvj",
        "colab": {}
      },
      "source": [
        "model.compile(\n",
        "    optimizer=\"adam\",\n",
        "    loss=\"categorical_crossentropy\",\n",
        "    metrics=[\"accuracy\"]\n",
        ")\n",
        "\n",
        "history = model.fit(\n",
        "    dataset_train.shuffle(10000).batch(batch_size),\n",
        "    epochs=epochs,\n",
        "    validation_data=dataset_validate.batch(batch_size)\n",
        ")\n",
        "\n",
        "histories[\"Dropout\"] = history\n",
        "\n",
        "plot_history(history)"
      ],
      "execution_count": null,
      "outputs": []
    },
    {
      "cell_type": "markdown",
      "metadata": {
        "colab_type": "text",
        "id": "cppWnp9SBgnE"
      },
      "source": [
        "## Reducing overfitting with Dropout and Data Augmentation.\n",
        "\n",
        "Data Augmentation is artificially extending the dataset by changing the original data randomly."
      ]
    },
    {
      "cell_type": "code",
      "metadata": {
        "colab_type": "code",
        "id": "nG5Agfnw6TUD",
        "colab": {}
      },
      "source": [
        "def augment(image, label):\n",
        "    image_augmented = image\n",
        "    image_augmented = tf.image.random_flip_left_right(image_augmented)\n",
        "    image_augmented = tf.image.random_flip_up_down(image_augmented)\n",
        "    image_augmented = tf.image.random_contrast(image_augmented, 0.5, 1.0)\n",
        "    image_augmented = tf.image.random_brightness(image_augmented, 0.25)\n",
        "    image_augmented = tf.image.random_hue(image_augmented, 0.2)\n",
        "    return image_augmented, label\n",
        "\n",
        "dataset_train = dataset_train_original.map(lambda image, label: encode(image, label)).cache()\n",
        "dataset_train = dataset_train.map(lambda image, label: augment(image, label))\n",
        "dataset_validate = dataset_validate_original.map(lambda image, label: encode(image, label)).cache()\n",
        "dataset_test = dataset_test_original.map(lambda image, label: encode(image, label)).cache()"
      ],
      "execution_count": null,
      "outputs": []
    },
    {
      "cell_type": "markdown",
      "metadata": {
        "colab_type": "text",
        "id": "EGLZ1k1ufhpx"
      },
      "source": [
        "--- \n",
        "\n",
        "Let us have a look at how the augmented data looks like."
      ]
    },
    {
      "cell_type": "code",
      "metadata": {
        "colab_type": "code",
        "id": "YUxJF-Fp8kPk",
        "colab": {}
      },
      "source": [
        "plt.figure(figsize=(20, 2))\n",
        "index = 1\n",
        "\n",
        "dataset_example = list(dataset_train_original.take(1))[0]\n",
        "image, label = dataset_example\n",
        "plt.subplot(1, 6, index)\n",
        "plt.imshow(image.numpy())\n",
        "plt.title(\"Original\")\n",
        "index += 1\n",
        "\n",
        "for _ in range(6):\n",
        "    dataset_example = list(dataset_train.take(1))[0]\n",
        "    image, label = dataset_example\n",
        "    plt.subplot(1, 7, index)\n",
        "    plt.imshow(image.numpy())\n",
        "    plt.title(\"Augmented\")\n",
        "    index += 1\n",
        "\n",
        "plt.show()\n",
        "plt.close()"
      ],
      "execution_count": null,
      "outputs": []
    },
    {
      "cell_type": "code",
      "metadata": {
        "colab_type": "code",
        "id": "fTHVeq90-0ek",
        "colab": {}
      },
      "source": [
        "model = models.Sequential()\n",
        "\n",
        "model.add(layers.Conv2D(32, (3, 3), activation=\"relu\", padding=\"same\", input_shape=(64, 64, 3)))\n",
        "model.add(layers.Conv2D(32, (3, 3), activation=\"relu\", padding=\"same\"))\n",
        "model.add(layers.MaxPooling2D((2, 2)))\n",
        "model.add(layers.Dropout(0.2))\n",
        "\n",
        "model.add(layers.Conv2D(64, (3, 3), activation=\"relu\", padding=\"same\"))\n",
        "model.add(layers.Conv2D(64, (3, 3), activation=\"relu\", padding=\"same\"))\n",
        "model.add(layers.MaxPooling2D((2, 2)))\n",
        "model.add(layers.Dropout(0.3))\n",
        "\n",
        "model.add(layers.Conv2D(128, (3, 3), activation=\"relu\", padding=\"same\"))\n",
        "model.add(layers.Conv2D(128, (3, 3), activation=\"relu\", padding=\"same\"))\n",
        "model.add(layers.Dropout(0.4))\n",
        "\n",
        "model.add(layers.Flatten())\n",
        "\n",
        "model.add(layers.Dense(128, activation=\"relu\"))\n",
        "model.add(layers.Dropout(0.5))\n",
        "model.add(layers.Dense(10, activation=\"softmax\"))\n",
        "\n",
        "model.summary()"
      ],
      "execution_count": null,
      "outputs": []
    },
    {
      "cell_type": "code",
      "metadata": {
        "colab_type": "code",
        "id": "3QeYmHKP-9Os",
        "colab": {}
      },
      "source": [
        "model.compile(\n",
        "    optimizer=\"adam\",\n",
        "    loss=\"categorical_crossentropy\",\n",
        "    metrics=[\"accuracy\"]\n",
        ")\n",
        "\n",
        "history = model.fit(\n",
        "    dataset_train.shuffle(10000).batch(batch_size),\n",
        "    epochs=epochs,\n",
        "    validation_data=dataset_validate.batch(batch_size)\n",
        ")\n",
        "\n",
        "histories[\"Dropout-Augmentation\"] = history\n",
        "\n",
        "plot_history(history)"
      ],
      "execution_count": null,
      "outputs": []
    },
    {
      "cell_type": "markdown",
      "metadata": {
        "id": "AxvueT1OVdwP",
        "colab_type": "text"
      },
      "source": [
        "## Transfer Learning."
      ]
    },
    {
      "cell_type": "code",
      "metadata": {
        "id": "A_vbxwDErZZW",
        "colab_type": "code",
        "colab": {}
      },
      "source": [
        "dataset_train = dataset_train_original.map(lambda image, label: encode(image, label)).cache()\n",
        "dataset_train = dataset_train.map(lambda image, label: augment(image, label))\n",
        "dataset_validate = dataset_validate_original.map(lambda image, label: encode(image, label)).cache()\n",
        "dataset_test = dataset_test_original.map(lambda image, label: encode(image, label)).cache()"
      ],
      "execution_count": null,
      "outputs": []
    },
    {
      "cell_type": "code",
      "metadata": {
        "id": "2mXXu-TLRpqO",
        "colab_type": "code",
        "colab": {}
      },
      "source": [
        "from tensorflow.keras import applications\n",
        " \n",
        "pretrained_model = applications.VGG19(\n",
        "    weights=\"imagenet\", \n",
        "    include_top=False, \n",
        "    input_shape=(64, 64, 3)\n",
        ")\n",
        " \n",
        "#for layer in pretrained_model.layers[:-5]:\n",
        "#  layer.trainable = False\n",
        " \n",
        "pretrained_model.summary()\n",
        " \n",
        "pretrained_model.trainable = False\n",
        " \n",
        "model = models.Sequential()\n",
        " \n",
        "model.add(pretrained_model)\n",
        " \n",
        "model.add(layers.Flatten())\n",
        " \n",
        "model.add(layers.Dropout(0.25))\n",
        "model.add(layers.Dense(1024, activation=\"relu\"))\n",
        "model.add(layers.Dropout(0.5))\n",
        "model.add(layers.Dense(10, activation=\"softmax\"))\n",
        " \n",
        "model.summary()"
      ],
      "execution_count": null,
      "outputs": []
    },
    {
      "cell_type": "code",
      "metadata": {
        "id": "oTR4IAzaSj_2",
        "colab_type": "code",
        "colab": {}
      },
      "source": [
        "model.compile(\n",
        "    optimizer=\"adam\",\n",
        "    loss=\"categorical_crossentropy\",\n",
        "    metrics=[\"accuracy\"]\n",
        ")\n",
        " \n",
        "history = model.fit(\n",
        "    dataset_train.shuffle(10000).batch(batch_size),\n",
        "    epochs=epochs,\n",
        "    validation_data=dataset_validate.batch(batch_size)\n",
        ")\n",
        " \n",
        "histories[\"TransferLearning-Dropout-Augmentation\"] = history\n",
        " \n",
        "plot_history(history)"
      ],
      "execution_count": null,
      "outputs": []
    },
    {
      "cell_type": "markdown",
      "metadata": {
        "colab_type": "text",
        "id": "bSzqQ3ZoE3OT"
      },
      "source": [
        "## Compare results."
      ]
    },
    {
      "cell_type": "code",
      "metadata": {
        "colab_type": "code",
        "id": "tD0NrfLEE3Ya",
        "colab": {}
      },
      "source": [
        "plt.figure(figsize=(10, 4))\n",
        "  \n",
        "plt.subplot(1, 2, 1)\n",
        "for title, history in histories.items():\n",
        "  plt.plot(history.history[\"val_loss\"], label=title)\n",
        "plt.legend()\n",
        "plt.title(\"Validation Loss\")\n",
        " \n",
        "plt.subplot(1, 2, 2)\n",
        "for title, history in histories.items():\n",
        "  plt.plot(history.history[\"val_accuracy\"], label=title)\n",
        "plt.legend()\n",
        "plt.title(\"Validation Accuracy\")\n",
        " \n",
        "plt.show()\n",
        "plt.close()"
      ],
      "execution_count": null,
      "outputs": []
    },
    {
      "cell_type": "markdown",
      "metadata": {
        "colab_type": "text",
        "id": "5gyY4qHYG3eI"
      },
      "source": [
        "# Summary.\n",
        "\n",
        "For solving image processing problems, Convolutional Neural Networks are state of the art. There are several architecures available. We focused on interleaving Convolutional layers with Pooling layers.\n",
        "\n",
        "As with all other use cases, overfitting can be a problem. We looked at Dropout and Data Augmentation for compensating overfitting."
      ]
    },
    {
      "cell_type": "code",
      "metadata": {
        "colab_type": "code",
        "id": "cuFIoxyfhSVR",
        "colab": {}
      },
      "source": [
        ""
      ],
      "execution_count": null,
      "outputs": []
    }
  ]
}